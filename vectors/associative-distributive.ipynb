{
 "cells": [
  {
   "cell_type": "code",
   "execution_count": 1,
   "metadata": {},
   "outputs": [],
   "source": [
    "import numpy as np\n",
    "import matplotlib.pyplot as plt\n",
    "from mpl_toolkits.mplot3d import Axes3D"
   ]
  },
  {
   "cell_type": "markdown",
   "metadata": {},
   "source": [
    "\n",
    "# VIDEO: Dot product properties: associative and distributive"
   ]
  },
  {
   "cell_type": "code",
   "execution_count": 2,
   "metadata": {},
   "outputs": [
    {
     "name": "stdout",
     "output_type": "stream",
     "text": [
      "[-0.6736062537498869, -0.6736062537498875]\n"
     ]
    }
   ],
   "source": [
    "## Distributive property\n",
    "\n",
    "# create random vectors\n",
    "n = 10\n",
    "a = np.random.randn(n)\n",
    "b = np.random.randn(n)\n",
    "c = np.random.randn(n)\n",
    "\n",
    "# the two results\n",
    "res1 = np.dot( a , (b+c) )\n",
    "res2 = np.dot(a,b) + np.dot(a,c)\n",
    "\n",
    "# compare them\n",
    "print([ res1,res2 ])"
   ]
  },
  {
   "cell_type": "code",
   "execution_count": 3,
   "metadata": {},
   "outputs": [
    {
     "name": "stdout",
     "output_type": "stream",
     "text": [
      "[-0.25668853 -0.81973013  0.39634831  0.00967746 -0.12458019]\n",
      "[-0.14163582  0.3937219  -0.1108097   0.29149541 -0.00643063]\n"
     ]
    }
   ],
   "source": [
    "## Associative property\n",
    "\n",
    "# create random vectors\n",
    "n = 5\n",
    "a = np.random.randn(n)\n",
    "b = np.random.randn(n)\n",
    "c = np.random.randn(n)\n",
    "\n",
    "# the two results\n",
    "res1 = np.dot( a , np.dot(b,c) ) # this isnt a true 'dot product' because we are multiplying a scalar x vector\n",
    "res2 = np.dot( np.dot(a,b) , c ) # however because numpy is awesome, the method works and is the best way to multiply scalars x vectors\n",
    "\n",
    "# compare them\n",
    "print(res1)\n",
    "print(res2)\n",
    "\n",
    "\n",
    "### special cases where associative property works!\n",
    "# 1) one vector is the zeros vector\n",
    "# 2) a==b==c"
   ]
  }
 ],
 "metadata": {
  "kernelspec": {
   "display_name": "Python 3",
   "language": "python",
   "name": "python3"
  },
  "language_info": {
   "codemirror_mode": {
    "name": "ipython",
    "version": 3
   },
   "file_extension": ".py",
   "mimetype": "text/x-python",
   "name": "python",
   "nbconvert_exporter": "python",
   "pygments_lexer": "ipython3",
   "version": "3.10.8"
  },
  "orig_nbformat": 4
 },
 "nbformat": 4,
 "nbformat_minor": 2
}
