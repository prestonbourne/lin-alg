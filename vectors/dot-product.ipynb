{
 "cells": [
  {
   "cell_type": "markdown",
   "metadata": {},
   "source": [
    "# Dot Product, sometimes called the scalar product\n",
    "\n",
    "To compose dot product, both vectors need to be of the same dimensionality\n",
    "\n",
    "The dot product is a scalar so i can be referenced as\n",
    "α,β,λ\n",
    "\n",
    "It Can also just be shown as the product of 2 vectors\n",
    "\n",
    "**v** * **b** or **a** * **b**\n",
    "\n",
    "This is the most common in linear algebra\n",
    "assuming a and b are column vectors\n",
    "a<sup>T</sup>b (reads as A transpose B)\n",
    "\n"
   ]
  },
  {
   "cell_type": "markdown",
   "metadata": {},
   "source": [
    "## Computing dot product"
   ]
  },
  {
   "cell_type": "markdown",
   "metadata": {},
   "source": [
    "The dot product is simply 2 vectors multiplied, then each element added together"
   ]
  },
  {
   "cell_type": "code",
   "execution_count": 1,
   "metadata": {},
   "outputs": [
    {
     "name": "stdout",
     "output_type": "stream",
     "text": [
      "43 43 43 43\n"
     ]
    }
   ],
   "source": [
    "# there are many ways to compute this in python\n",
    "# here's an example\n",
    "\n",
    "import numpy as np\n",
    "import matplotlib.pyplot as plt\n",
    "\n",
    "v1 = np.array([ 1, 2, 3, 5, 6 ])\n",
    "v2 = np.array([ 0, -4, -3, 6, 5 ])\n",
    "\n",
    "# method 1, sum then multiply\n",
    "dp1 = sum( np.multiply(v1,v2) )\n",
    "\n",
    "# method 2, built in, this way is preferred\n",
    "dp2 = np.dot( v1,v2 )\n",
    "\n",
    "# method 3, matrix multiplication\n",
    "dp3 = np.matmul( v1,v2 )\n",
    "\n",
    "# method 4, manually\n",
    "dp4 = 0  \n",
    "\n",
    "# loop over elements\n",
    "for i in range(len(v1)):\n",
    "    \n",
    "    # multiply corresponding element and sum\n",
    "    dp4 = dp4 + v1[i]*v2[i]\n",
    "\n",
    "print(dp1,dp2,dp3,dp4)\n",
    "\n"
   ]
  }
 ],
 "metadata": {
  "kernelspec": {
   "display_name": "Python 3",
   "language": "python",
   "name": "python3"
  },
  "language_info": {
   "codemirror_mode": {
    "name": "ipython",
    "version": 3
   },
   "file_extension": ".py",
   "mimetype": "text/x-python",
   "name": "python",
   "nbconvert_exporter": "python",
   "pygments_lexer": "ipython3",
   "version": "3.10.8"
  },
  "orig_nbformat": 4
 },
 "nbformat": 4,
 "nbformat_minor": 2
}
